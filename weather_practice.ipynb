{
 "cells": [
  {
   "cell_type": "code",
   "execution_count": 3,
   "id": "11114290",
   "metadata": {},
   "outputs": [],
   "source": [
    "#Dependencies\n",
    "import json\n",
    "import requests\n",
    "from config import weather_api_key"
   ]
  },
  {
   "cell_type": "code",
   "execution_count": 11,
   "id": "1feea960",
   "metadata": {},
   "outputs": [],
   "source": [
    "#save config info\n",
    "url = \"http://api.openweathermap.org/data/2.5/weather?\"\n",
    "city =\"London\"\n",
    "temp =\"Celsius\"\n",
    "\n",
    "#build query URL\n",
    "query_url=f'{url}appid={weather_api_key}&q={city}&temp={temp}&units=metric'\n"
   ]
  },
  {
   "cell_type": "code",
   "execution_count": 12,
   "id": "421c7b0b",
   "metadata": {},
   "outputs": [],
   "source": [
    "#get weather data\n",
    "weather_resp = requests.get(query_url)\n",
    "weather_json = weather_resp.json()"
   ]
  },
  {
   "cell_type": "code",
   "execution_count": 9,
   "id": "0681b343",
   "metadata": {},
   "outputs": [
    {
     "name": "stdout",
     "output_type": "stream",
     "text": [
      "{'coord': {'lon': -0.1257, 'lat': 51.5085}, 'weather': [{'id': 800, 'main': 'Clear', 'description': 'clear sky', 'icon': '01n'}], 'base': 'stations', 'main': {'temp': 291.21, 'feels_like': 291.37, 'temp_min': 290.29, 'temp_max': 292.04, 'pressure': 1013, 'humidity': 88}, 'visibility': 10000, 'wind': {'speed': 3.6, 'deg': 230}, 'clouds': {'all': 9}, 'dt': 1659490544, 'sys': {'type': 2, 'id': 2075535, 'country': 'GB', 'sunrise': 1659500819, 'sunset': 1659555980}, 'timezone': 3600, 'id': 2643743, 'name': 'London', 'cod': 200}\n"
     ]
    }
   ],
   "source": [
    "#print weather\n",
    "print(weather_json)"
   ]
  }
 ],
 "metadata": {
  "kernelspec": {
   "display_name": "PythonData",
   "language": "python",
   "name": "pythondata"
  },
  "language_info": {
   "codemirror_mode": {
    "name": "ipython",
    "version": 3
   },
   "file_extension": ".py",
   "mimetype": "text/x-python",
   "name": "python",
   "nbconvert_exporter": "python",
   "pygments_lexer": "ipython3",
   "version": "3.7.13"
  }
 },
 "nbformat": 4,
 "nbformat_minor": 5
}
