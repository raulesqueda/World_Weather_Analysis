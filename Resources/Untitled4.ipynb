{
 "cells": [
  {
   "cell_type": "code",
   "execution_count": 3,
   "id": "a3127b59",
   "metadata": {},
   "outputs": [],
   "source": [
    "#Dependencies\n",
    "import json\n",
    "import requests\n",
    "from config import weather_api_key"
   ]
  },
  {
   "cell_type": "code",
   "execution_count": 4,
   "id": "ce6a7c1c",
   "metadata": {},
   "outputs": [],
   "source": [
    "#save config info\n",
    "url = \"http://api.openweathermap.org/data/2.5/weather?\"\n",
    "city =\"London\"\n",
    "\n",
    "#build query URL\n",
    "query_url=f'{url}appid={weather_api_key}&q{city}'\n"
   ]
  },
  {
   "cell_type": "code",
   "execution_count": 5,
   "id": "76111125",
   "metadata": {},
   "outputs": [],
   "source": [
    "#get weather data\n",
    "weather_resp = requests.get(query_url)\n",
    "weather_json = weather_resp.json()"
   ]
  },
  {
   "cell_type": "code",
   "execution_count": 6,
   "id": "d78612f5",
   "metadata": {},
   "outputs": [
    {
     "name": "stdout",
     "output_type": "stream",
     "text": [
      "{'cod': '400', 'message': 'Nothing to geocode'}\n"
     ]
    }
   ],
   "source": [
    "#print weather\n",
    "print(weather_json)"
   ]
  }
 ],
 "metadata": {
  "kernelspec": {
   "display_name": "PythonData",
   "language": "python",
   "name": "pythondata"
  },
  "language_info": {
   "codemirror_mode": {
    "name": "ipython",
    "version": 3
   },
   "file_extension": ".py",
   "mimetype": "text/x-python",
   "name": "python",
   "nbconvert_exporter": "python",
   "pygments_lexer": "ipython3",
   "version": "3.7.13"
  }
 },
 "nbformat": 4,
 "nbformat_minor": 5
}
