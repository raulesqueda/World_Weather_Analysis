{
 "cells": [
  {
   "cell_type": "code",
   "execution_count": 2,
   "metadata": {},
   "outputs": [],
   "source": [
    "# Dependencies\n",
    "import requests\n",
    "from config import weather_api_key"
   ]
  },
  {
   "cell_type": "code",
   "execution_count": 6,
   "metadata": {},
   "outputs": [],
   "source": [
    "# Build query URL and request your results in Celsius\n",
    "url = \"http://api.openweathermap.org/data/2.5/weather?\"\n",
    "city =\"Bujumbura\"\n",
    "units =\"metric\"\n",
    "\n",
    "#build query URL\n",
    "query_url=f'{url}appid={weather_api_key}&q={city}&units={units}'\n",
    "# Get weather data\n",
    "weather_resp = requests.get(query_url)\n"
   ]
  },
  {
   "cell_type": "code",
   "execution_count": 7,
   "metadata": {},
   "outputs": [
    {
     "name": "stdout",
     "output_type": "stream",
     "text": [
      "{'coord': {'lon': 29.3644, 'lat': -3.3822}, 'weather': [{'id': 801, 'main': 'Clouds', 'description': 'few clouds', 'icon': '02n'}], 'base': 'stations', 'main': {'temp': 21.02, 'feels_like': 20.98, 'temp_min': 21.02, 'temp_max': 21.02, 'pressure': 1014, 'humidity': 69, 'sea_level': 1014, 'grnd_level': 925}, 'visibility': 10000, 'wind': {'speed': 1.46, 'deg': 33, 'gust': 2.38}, 'clouds': {'all': 23}, 'dt': 1659491730, 'sys': {'country': 'BI', 'sunrise': 1659499770, 'sunset': 1659542875}, 'timezone': 7200, 'id': 425378, 'name': 'Bujumbura', 'cod': 200}\n"
     ]
    }
   ],
   "source": [
    "# Get temperature from JSON response\n",
    "weather_json = weather_resp.json()\n",
    "print(weather_json)"
   ]
  },
  {
   "cell_type": "code",
   "execution_count": 8,
   "metadata": {},
   "outputs": [
    {
     "data": {
      "text/plain": [
       "21.02"
      ]
     },
     "execution_count": 8,
     "metadata": {},
     "output_type": "execute_result"
    }
   ],
   "source": [
    "temperature=weather_json[\"main\"][\"temp\"]\n",
    "temperature"
   ]
  },
  {
   "cell_type": "code",
   "execution_count": 9,
   "metadata": {},
   "outputs": [
    {
     "name": "stdout",
     "output_type": "stream",
     "text": [
      "The temperature in Bujumbura is: 21.02°C\n"
     ]
    }
   ],
   "source": [
    "# Report temperature\n",
    "print(f'The temperature in Bujumbura is: {temperature}°C')"
   ]
  },
  {
   "cell_type": "code",
   "execution_count": 15,
   "metadata": {},
   "outputs": [
    {
     "name": "stdout",
     "output_type": "stream",
     "text": [
      "The temperature in Bujumbura is: 21.02°C,69.84°F,294.17°K\n"
     ]
    }
   ],
   "source": [
    "units =[\"metric\", \"imperial\",\"standard\"]\n",
    "temp = []\n",
    "\n",
    "for u in units:\n",
    "    query_url=f'{url}appid={weather_api_key}&q={city}&units={u}'\n",
    "    weather_resp = requests.get(query_url)\n",
    "    weather_json = weather_resp.json()\n",
    "    temperature=weather_json[\"main\"][\"temp\"]\n",
    "    temp.append(temperature)\n",
    "    \n",
    "labels = [\"°C\",\"°F\",\"°K\"]\n",
    "\n",
    "print(f\"The temperature in Bujumbura is: { ','.join([f'{temp[i]}{labels[i]}' for i in range(3)])}\")"
   ]
  }
 ],
 "metadata": {
  "kernelspec": {
   "display_name": "Python 3 (ipykernel)",
   "language": "python",
   "name": "python3"
  },
  "language_info": {
   "codemirror_mode": {
    "name": "ipython",
    "version": 3
   },
   "file_extension": ".py",
   "mimetype": "text/x-python",
   "name": "python",
   "nbconvert_exporter": "python",
   "pygments_lexer": "ipython3",
   "version": "3.7.13"
  },
  "varInspector": {
   "cols": {
    "lenName": 16,
    "lenType": 16,
    "lenVar": 40
   },
   "kernels_config": {
    "python": {
     "delete_cmd_postfix": "",
     "delete_cmd_prefix": "del ",
     "library": "var_list.py",
     "varRefreshCmd": "print(var_dic_list())"
    },
    "r": {
     "delete_cmd_postfix": ") ",
     "delete_cmd_prefix": "rm(",
     "library": "var_list.r",
     "varRefreshCmd": "cat(var_dic_list()) "
    }
   },
   "types_to_exclude": [
    "module",
    "function",
    "builtin_function_or_method",
    "instance",
    "_Feature"
   ],
   "window_display": false
  }
 },
 "nbformat": 4,
 "nbformat_minor": 2
}
